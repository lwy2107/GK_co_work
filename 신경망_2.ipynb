{
  "nbformat": 4,
  "nbformat_minor": 0,
  "metadata": {
    "colab": {
      "provenance": [],
      "authorship_tag": "ABX9TyM/ol7UKcOYhLmc1M6Lt/CY",
      "include_colab_link": true
    },
    "kernelspec": {
      "name": "python3",
      "display_name": "Python 3"
    },
    "language_info": {
      "name": "python"
    }
  },
  "cells": [
    {
      "cell_type": "markdown",
      "metadata": {
        "id": "view-in-github",
        "colab_type": "text"
      },
      "source": [
        "<a href=\"https://colab.research.google.com/github/lwy2107/GK_co_work/blob/master/%EC%8B%A0%EA%B2%BD%EB%A7%9D_2.ipynb\" target=\"_parent\"><img src=\"https://colab.research.google.com/assets/colab-badge.svg\" alt=\"Open In Colab\"/></a>"
      ]
    },
    {
      "cell_type": "code",
      "execution_count": 2,
      "metadata": {
        "colab": {
          "base_uri": "https://localhost:8080/"
        },
        "id": "f_gWkJyiB-X1",
        "outputId": "2de0cb48-105a-4b7f-a912-9d2d9a714100"
      },
      "outputs": [
        {
          "output_type": "stream",
          "name": "stdout",
          "text": [
            "Downloading data from https://storage.googleapis.com/tensorflow/tf-keras-datasets/train-labels-idx1-ubyte.gz\n",
            "29515/29515 [==============================] - 0s 0us/step\n",
            "Downloading data from https://storage.googleapis.com/tensorflow/tf-keras-datasets/train-images-idx3-ubyte.gz\n",
            "26421880/26421880 [==============================] - 1s 0us/step\n",
            "Downloading data from https://storage.googleapis.com/tensorflow/tf-keras-datasets/t10k-labels-idx1-ubyte.gz\n",
            "5148/5148 [==============================] - 0s 0us/step\n",
            "Downloading data from https://storage.googleapis.com/tensorflow/tf-keras-datasets/t10k-images-idx3-ubyte.gz\n",
            "4422102/4422102 [==============================] - 1s 0us/step\n"
          ]
        }
      ],
      "source": [
        "from tensorflow import keras\n",
        "(train_input, train_target), (test_input, test_target)=\\\n",
        "keras.datasets.fashion_mnist.load_data()"
      ]
    },
    {
      "cell_type": "code",
      "source": [
        "from sklearn.model_selection import train_test_split\n",
        "train_scaled=train_input/255.0\n",
        "train_scaled=train_scaled.reshape(-1,28*28)\n",
        "train_scaled, val_scaled, train_target, val_target=train_test_split(\n",
        "    train_scaled, train_target, test_size=0.2, random_state=42)"
      ],
      "metadata": {
        "id": "mYbuDG-ZCvFh"
      },
      "execution_count": 3,
      "outputs": []
    },
    {
      "cell_type": "code",
      "source": [
        "dense1=keras.layers.Dense(100, activation='sigmoid', input_shape=(784,))#시그모이드 함수를 사용 신경망은 첫번째층에 무조건 input_shape매개변수크기를 입력해야함\n",
        "dense2=keras.layers.Dense(10, activation='softmax') # 소프트맥스 층 선언"
      ],
      "metadata": {
        "id": "DFminiYOKPQu"
      },
      "execution_count": 4,
      "outputs": []
    },
    {
      "cell_type": "code",
      "source": [
        "model = keras.Sequential([dense1, dense2]) #심층 신경망 사용 첫째층은 시그모이드 두번째층은 소프트맥스층을 사용하였다."
      ],
      "metadata": {
        "id": "8OoxkJZkr8AR"
      },
      "execution_count": 5,
      "outputs": []
    },
    {
      "cell_type": "code",
      "source": [
        "model.summary()"
      ],
      "metadata": {
        "colab": {
          "base_uri": "https://localhost:8080/"
        },
        "id": "GUq4EonwsMpl",
        "outputId": "3e304806-17ba-45e5-be02-8928e2aad955"
      },
      "execution_count": 6,
      "outputs": [
        {
          "output_type": "stream",
          "name": "stdout",
          "text": [
            "Model: \"sequential\"\n",
            "_________________________________________________________________\n",
            " Layer (type)                Output Shape              Param #   \n",
            "=================================================================\n",
            " dense (Dense)               (None, 100)               78500     \n",
            "                                                                 \n",
            " dense_1 (Dense)             (None, 10)                1010      \n",
            "                                                                 \n",
            "=================================================================\n",
            "Total params: 79510 (310.59 KB)\n",
            "Trainable params: 79510 (310.59 KB)\n",
            "Non-trainable params: 0 (0.00 Byte)\n",
            "_________________________________________________________________\n"
          ]
        }
      ]
    },
    {
      "cell_type": "markdown",
      "source": [
        "지금 summury메서드를 이용하여 출력을 해보았다.\n",
        "모델은 sequential이라는 이름을 사용하고 있고 층은 총 2개의 층으로 구성된 딥러닝형식으로 구성되어있고 출력형식은 첫번째 층에서는 데이터셋의 데이터를를 입력하여 100개의 값을 출력하도록 하고 그 100개의 출력된값을 다시 두번째층에서 계산하여 10개의 결과값을 내도록하였다. 이를 파라미터로 나타냈다. 첫번째층에서는 784픽셀의 데이터에 100개의 뉴런 100개의 절편을 계산하게되는데\n",
        "784*100+100 으로구성되어있다. 즉 78500개라는 파라미터 값이 나오게된다.\n",
        "그다음층에서는 100개의 계산된 결과값을 받았고 10개의 뉴런의 값을 출력하게 하고 그에 맞는 절편을 구성하게된다.\n",
        "100*10+10로 구성된다. 그 결과 파라미터값은 1010으로 나오게 되고 모든값을 더하게되면 79510개의 파라미터 값이 나오게된다."
      ],
      "metadata": {
        "id": "8XMQmaB3dYEg"
      }
    },
    {
      "cell_type": "code",
      "source": [
        "model = keras.Sequential([\n",
        "    keras.layers.Dense(100,activation='sigmoid', input_shape=(784,),name='hidden'),\n",
        "    keras.layers.Dense(10, activation='softmax', name='output')], name='패션MNIST 모델')\n",
        "model.summary()"
      ],
      "metadata": {
        "id": "tOwyOKdugrsP",
        "colab": {
          "base_uri": "https://localhost:8080/"
        },
        "outputId": "6e94c2e9-5717-4761-b88e-0d52f73e555c"
      },
      "execution_count": 7,
      "outputs": [
        {
          "output_type": "stream",
          "name": "stdout",
          "text": [
            "Model: \"패션MNIST 모델\"\n",
            "_________________________________________________________________\n",
            " Layer (type)                Output Shape              Param #   \n",
            "=================================================================\n",
            " hidden (Dense)              (None, 100)               78500     \n",
            "                                                                 \n",
            " output (Dense)              (None, 10)                1010      \n",
            "                                                                 \n",
            "=================================================================\n",
            "Total params: 79510 (310.59 KB)\n",
            "Trainable params: 79510 (310.59 KB)\n",
            "Non-trainable params: 0 (0.00 Byte)\n",
            "_________________________________________________________________\n"
          ]
        }
      ]
    },
    {
      "cell_type": "code",
      "source": [
        "model = keras.Sequential()\n",
        "model.add(keras.layers.Dense(100, activation='sigmoid', input_shape=(784,)))\n",
        "model.add(keras.layers.Dense(10, activation='softmax'))\n",
        "model.summary()"
      ],
      "metadata": {
        "colab": {
          "base_uri": "https://localhost:8080/"
        },
        "id": "VA_Ezuz3hVuj",
        "outputId": "816922a6-24ba-4c6d-eb07-48fdaa524178"
      },
      "execution_count": 8,
      "outputs": [
        {
          "output_type": "stream",
          "name": "stdout",
          "text": [
            "Model: \"sequential_1\"\n",
            "_________________________________________________________________\n",
            " Layer (type)                Output Shape              Param #   \n",
            "=================================================================\n",
            " dense_2 (Dense)             (None, 100)               78500     \n",
            "                                                                 \n",
            " dense_3 (Dense)             (None, 10)                1010      \n",
            "                                                                 \n",
            "=================================================================\n",
            "Total params: 79510 (310.59 KB)\n",
            "Trainable params: 79510 (310.59 KB)\n",
            "Non-trainable params: 0 (0.00 Byte)\n",
            "_________________________________________________________________\n"
          ]
        }
      ]
    },
    {
      "cell_type": "code",
      "source": [
        "model.compile(loss='sparse_categorical_crossentropy', metrics='accuracy')\n",
        "model.fit(train_scaled, train_target, epochs=5)"
      ],
      "metadata": {
        "colab": {
          "base_uri": "https://localhost:8080/"
        },
        "id": "kcdGwgGkirOb",
        "outputId": "c65c0fc9-6f7f-4e5d-b346-23b401a24dfc"
      },
      "execution_count": 9,
      "outputs": [
        {
          "output_type": "stream",
          "name": "stdout",
          "text": [
            "Epoch 1/5\n",
            "1500/1500 [==============================] - 5s 3ms/step - loss: 0.5706 - accuracy: 0.8062\n",
            "Epoch 2/5\n",
            "1500/1500 [==============================] - 4s 3ms/step - loss: 0.4127 - accuracy: 0.8525\n",
            "Epoch 3/5\n",
            "1500/1500 [==============================] - 5s 4ms/step - loss: 0.3765 - accuracy: 0.8641\n",
            "Epoch 4/5\n",
            "1500/1500 [==============================] - 4s 3ms/step - loss: 0.3542 - accuracy: 0.8718\n",
            "Epoch 5/5\n",
            "1500/1500 [==============================] - 4s 3ms/step - loss: 0.3356 - accuracy: 0.8785\n"
          ]
        },
        {
          "output_type": "execute_result",
          "data": {
            "text/plain": [
              "<keras.src.callbacks.History at 0x78a796a73be0>"
            ]
          },
          "metadata": {},
          "execution_count": 9
        }
      ]
    },
    {
      "cell_type": "markdown",
      "source": [
        "위의 신경망을 에포크 5회로 훈련시켜보았다.\n",
        "에포크가 가면갈수록 예측의 정확도가 올라가는것을 알수 있다."
      ],
      "metadata": {
        "id": "twALHmYHkOOK"
      }
    },
    {
      "cell_type": "markdown",
      "source": [
        "현재 사용중인 선형함수들은 단점이 있다. 0~1이라는 소수점을 모두 계산해야하다보니 정확한 값을 내기가 힘들어진다. 그러므로 렐루함수를 사용해서 0or1로 하여 결과를 나타내게 하면 보다 효과적으로 결과값을 도출해낼수 있다. 그리고 사용량도 줄어들게 된다."
      ],
      "metadata": {
        "id": "c_Sg0fHrouMR"
      }
    },
    {
      "cell_type": "code",
      "source": [
        "model = keras.Sequential()\n",
        "model.add(keras.layers.Flatten(input_shape=(28,28)))\n",
        "model.add(keras.layers.Dense(100, activation='relu'))\n",
        "model.add(keras.layers.Dense(10,activation='softmax'))\n",
        "model.summary()"
      ],
      "metadata": {
        "colab": {
          "base_uri": "https://localhost:8080/"
        },
        "id": "h-YcFt86kWmS",
        "outputId": "8dfb3aec-9e44-4f0c-8cc8-84a43f97c3b7"
      },
      "execution_count": 10,
      "outputs": [
        {
          "output_type": "stream",
          "name": "stdout",
          "text": [
            "Model: \"sequential_2\"\n",
            "_________________________________________________________________\n",
            " Layer (type)                Output Shape              Param #   \n",
            "=================================================================\n",
            " flatten (Flatten)           (None, 784)               0         \n",
            "                                                                 \n",
            " dense_4 (Dense)             (None, 100)               78500     \n",
            "                                                                 \n",
            " dense_5 (Dense)             (None, 10)                1010      \n",
            "                                                                 \n",
            "=================================================================\n",
            "Total params: 79510 (310.59 KB)\n",
            "Trainable params: 79510 (310.59 KB)\n",
            "Non-trainable params: 0 (0.00 Byte)\n",
            "_________________________________________________________________\n"
          ]
        }
      ]
    },
    {
      "cell_type": "code",
      "source": [
        "(train_input, train_target),(test_input, test_target)=keras.datasets.fashion_mnist.load_data()\n",
        "train_scaled = train_input/255.0\n",
        "train_scaled, val_scaled, train_target, val_target = train_test_split(\n",
        "    train_scaled, train_target, test_size=0.2, random_state=42\n",
        ")\n"
      ],
      "metadata": {
        "id": "utPu3WF-tJyV"
      },
      "execution_count": 18,
      "outputs": []
    },
    {
      "cell_type": "code",
      "source": [
        "model.compile(loss='sparse_categorical_crossentropy', metrics='accuracy')\n",
        "model.fit(train_scaled, train_target, epochs=5)"
      ],
      "metadata": {
        "colab": {
          "base_uri": "https://localhost:8080/"
        },
        "id": "RrDBrDnAvBgL",
        "outputId": "a0eb2850-27e0-46eb-e213-1f5995e35193"
      },
      "execution_count": 19,
      "outputs": [
        {
          "output_type": "stream",
          "name": "stdout",
          "text": [
            "Epoch 1/5\n",
            "1500/1500 [==============================] - 6s 4ms/step - loss: 0.5356 - accuracy: 0.8102\n",
            "Epoch 2/5\n",
            "1500/1500 [==============================] - 4s 3ms/step - loss: 0.3898 - accuracy: 0.8587\n",
            "Epoch 3/5\n",
            "1500/1500 [==============================] - 5s 3ms/step - loss: 0.3544 - accuracy: 0.8736\n",
            "Epoch 4/5\n",
            "1500/1500 [==============================] - 5s 3ms/step - loss: 0.3312 - accuracy: 0.8807\n",
            "Epoch 5/5\n",
            "1500/1500 [==============================] - 4s 3ms/step - loss: 0.3158 - accuracy: 0.8876\n"
          ]
        },
        {
          "output_type": "execute_result",
          "data": {
            "text/plain": [
              "<keras.src.callbacks.History at 0x78a7c0e6cfd0>"
            ]
          },
          "metadata": {},
          "execution_count": 19
        }
      ]
    },
    {
      "cell_type": "code",
      "source": [
        "model.evaluate(val_scaled, val_target)"
      ],
      "metadata": {
        "colab": {
          "base_uri": "https://localhost:8080/"
        },
        "id": "doPaWSCcv1Uj",
        "outputId": "6362a3c2-f674-4773-ee63-761c4ff57f26"
      },
      "execution_count": 20,
      "outputs": [
        {
          "output_type": "stream",
          "name": "stdout",
          "text": [
            "375/375 [==============================] - 1s 2ms/step - loss: 0.3655 - accuracy: 0.8737\n"
          ]
        },
        {
          "output_type": "execute_result",
          "data": {
            "text/plain": [
              "[0.3654516935348511, 0.8737499713897705]"
            ]
          },
          "metadata": {},
          "execution_count": 20
        }
      ]
    },
    {
      "cell_type": "markdown",
      "source": [
        "케라스는 기본적으로 하강기법을 이용하여 학습을 하는데 이 하강기법들을 옵티마이저라 부른다. 미니배치(데이터를 작은묶음으로 계산)하여 예측값을 낸다."
      ],
      "metadata": {
        "id": "3XFn-MTRy85d"
      }
    },
    {
      "cell_type": "code",
      "source": [
        "##model.compile(optimizer='sgd', loss='sparse_categorical_crossentropy', metrics='accuracy')\n",
        "#sgd=keras.optimizers.SGD(learning_rate=0.1)#학습률을 0.1 즉10%로 설정하고싶을때 이렇게 넣으면된다.\n",
        "#model.compile(optimizer=sgd, loss='sparse_categorical_crossentropy', metrics='accuracy') 위의 sgd와 동일한 옵티마이져이다. 원래 이렇게 객채선언도 해야한다.\n",
        "#하지만 번거로움을 피하고자 'sgd'로묶어 바로 사용하도록 하였다."
      ],
      "metadata": {
        "id": "YCjBXHGVw9qG"
      },
      "execution_count": 21,
      "outputs": []
    },
    {
      "cell_type": "code",
      "source": [
        "##dgf=keras.optimizers.SGD(momentum=0.9, nesterov=True) #모멘텀이 0.9이며 네스테로프가속경사를 사용하는 예이다."
      ],
      "metadata": {
        "id": "jB5KPlag39mr"
      },
      "execution_count": null,
      "outputs": []
    },
    {
      "cell_type": "markdown",
      "source": [
        "네스테로프가속경사는 모멘텀을 2회반복하는 것이다. 기존의 경사하강보다 훨씬빠르게 최적점에 다다를수 있게된다. 이렇게 하여 학습하다보면 학습률을 줄여야하는데 이렇게 늘리고 줄이는것을 적응형학습이라 한다.\n",
        "이런방법으로 튜닝하여 더 나은 예측을 얻을수 있다.\n",
        "아래에는 적응형학습률을 사용하는 옵티마이저이다."
      ],
      "metadata": {
        "id": "928gAOtr4SFQ"
      }
    },
    {
      "cell_type": "code",
      "source": [
        "adagrad=keras.optimizers.Adagrad()\n",
        "model.compile(optimizer=adagrad, loss='sparse_categorical_crossentropy', metrics='accuracy')\n",
        "model.fit(train_scaled, train_target, epochs=5)\n",
        "rmsprop=keras.optimizers.RMSprop()\n",
        "model.compile(optimizer=rmsprop, loss='sparse_categorical_crossentropy', metrics='accuracy')\n",
        "model.fit(train_scaled, train_target, epochs=5)"
      ],
      "metadata": {
        "colab": {
          "base_uri": "https://localhost:8080/"
        },
        "id": "h5f7YZEp59U_",
        "outputId": "2cefee12-80b6-4b53-befb-54fa9e37b5a9"
      },
      "execution_count": 26,
      "outputs": [
        {
          "output_type": "stream",
          "name": "stdout",
          "text": [
            "Epoch 1/5\n",
            "1500/1500 [==============================] - 5s 3ms/step - loss: 0.2585 - accuracy: 0.9054\n",
            "Epoch 2/5\n",
            "1500/1500 [==============================] - 5s 3ms/step - loss: 0.2541 - accuracy: 0.9066\n",
            "Epoch 3/5\n",
            "1500/1500 [==============================] - 5s 3ms/step - loss: 0.2523 - accuracy: 0.9075\n",
            "Epoch 4/5\n",
            "1500/1500 [==============================] - 5s 3ms/step - loss: 0.2510 - accuracy: 0.9083\n",
            "Epoch 5/5\n",
            "1500/1500 [==============================] - 7s 5ms/step - loss: 0.2502 - accuracy: 0.9086\n",
            "Epoch 1/5\n",
            "1500/1500 [==============================] - 6s 4ms/step - loss: 0.2903 - accuracy: 0.8922\n",
            "Epoch 2/5\n",
            "1500/1500 [==============================] - 5s 3ms/step - loss: 0.2829 - accuracy: 0.8963\n",
            "Epoch 3/5\n",
            "1500/1500 [==============================] - 5s 3ms/step - loss: 0.2751 - accuracy: 0.9000\n",
            "Epoch 4/5\n",
            "1500/1500 [==============================] - 6s 4ms/step - loss: 0.2685 - accuracy: 0.9031\n",
            "Epoch 5/5\n",
            "1500/1500 [==============================] - 5s 3ms/step - loss: 0.2624 - accuracy: 0.9055\n"
          ]
        },
        {
          "output_type": "execute_result",
          "data": {
            "text/plain": [
              "<keras.src.callbacks.History at 0x78a7bfbaa920>"
            ]
          },
          "metadata": {},
          "execution_count": 26
        }
      ]
    },
    {
      "cell_type": "markdown",
      "source": [
        "이러한 적응형학습법이 있다. 이와 더불이 가장 쉽게 사용할수 있는 Adam을 사용하여 실습해본다."
      ],
      "metadata": {
        "id": "ezTK2WLh7Fez"
      }
    },
    {
      "cell_type": "code",
      "source": [
        "model=keras.Sequential()\n",
        "model.add(keras.layers.Flatten(input_shape=(28,28)))\n",
        "model.add(keras.layers.Dense(100,activation='relu'))\n",
        "model.add(keras.layers.Dense(10,activation='softmax'))"
      ],
      "metadata": {
        "id": "UddhR6O37Obq"
      },
      "execution_count": 24,
      "outputs": []
    },
    {
      "cell_type": "code",
      "source": [
        "model.compile(optimizer='adam', loss='sparse_categorical_crossentropy', metrics='accuracy')\n",
        "model.fit(train_scaled, train_target, epochs=5)"
      ],
      "metadata": {
        "colab": {
          "base_uri": "https://localhost:8080/"
        },
        "id": "mZc9YzMg7umr",
        "outputId": "3927d76f-8a4a-4c76-f2d9-f81a887c01f5"
      },
      "execution_count": 25,
      "outputs": [
        {
          "output_type": "stream",
          "name": "stdout",
          "text": [
            "Epoch 1/5\n",
            "1500/1500 [==============================] - 6s 3ms/step - loss: 0.5172 - accuracy: 0.8191\n",
            "Epoch 2/5\n",
            "1500/1500 [==============================] - 5s 3ms/step - loss: 0.3895 - accuracy: 0.8593\n",
            "Epoch 3/5\n",
            "1500/1500 [==============================] - 6s 4ms/step - loss: 0.3463 - accuracy: 0.8742\n",
            "Epoch 4/5\n",
            "1500/1500 [==============================] - 5s 3ms/step - loss: 0.3212 - accuracy: 0.8830\n",
            "Epoch 5/5\n",
            "1500/1500 [==============================] - 6s 4ms/step - loss: 0.3029 - accuracy: 0.8885\n"
          ]
        },
        {
          "output_type": "execute_result",
          "data": {
            "text/plain": [
              "<keras.src.callbacks.History at 0x78a7c0e6ca60>"
            ]
          },
          "metadata": {},
          "execution_count": 25
        }
      ]
    },
    {
      "cell_type": "code",
      "source": [
        "model.evaluate(val_scaled, val_target)"
      ],
      "metadata": {
        "colab": {
          "base_uri": "https://localhost:8080/"
        },
        "id": "roRGOe-J8n9K",
        "outputId": "031a707f-35dd-420a-e7c4-14e1d8214e1d"
      },
      "execution_count": 27,
      "outputs": [
        {
          "output_type": "stream",
          "name": "stdout",
          "text": [
            "375/375 [==============================] - 1s 2ms/step - loss: 0.3662 - accuracy: 0.8827\n"
          ]
        },
        {
          "output_type": "execute_result",
          "data": {
            "text/plain": [
              "[0.36623021960258484, 0.8826666474342346]"
            ]
          },
          "metadata": {},
          "execution_count": 27
        }
      ]
    },
    {
      "cell_type": "markdown",
      "source": [],
      "metadata": {
        "id": "gVKU-i3W8L2y"
      }
    }
  ]
}